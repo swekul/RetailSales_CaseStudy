{
 "cells": [
  {
   "cell_type": "markdown",
   "metadata": {},
   "source": [
    "**Jake McRoberts  \n",
    "July 7th, 2017  \n",
    "Case Study: Retail Sales Data**"
   ]
  },
  {
   "cell_type": "markdown",
   "metadata": {},
   "source": [
    "# Improve Demand Forecasting using Retail Sales Data"
   ]
  },
  {
   "cell_type": "markdown",
   "metadata": {},
   "source": [
    "Python version used for analyses: 3.6.X\n",
    "\n",
    "Data files: \n",
    "- sales.txt\n",
    "- article_master.txt\n",
    "\n",
    "Tasks:\n",
    "1. Prepare and analyze the data to assure sufficient quality and suitability for the business case study.\n",
    "2. Identify what is driving sales and which type of promotion has a stronger impact on sales.\n",
    "3. Forecast sales (sold units) for the following month. \n",
    "4. Perform appropriate diagnostics to check whether your methods and results from above are reliable."
   ]
  },
  {
   "cell_type": "markdown",
   "metadata": {},
   "source": [
    "### 1. Import, clean, and wrangle sales data to ensure data quality and suitability for analysis"
   ]
  },
  {
   "cell_type": "markdown",
   "metadata": {},
   "source": [
    "##### Import Data"
   ]
  },
  {
   "cell_type": "code",
   "execution_count": null,
   "metadata": {
    "collapsed": true
   },
   "outputs": [],
   "source": [
    "import pandas as pd\n",
    "\n",
    "# import transactional sales data of articles into a pandas dataframe\n",
    "data_sales = pd.read_csv(\"sales.txt\", sep = \";\")\n",
    "\n",
    "# import attribute data of sold articles\n",
    "data_attribute = pd.read_csv(\"article_master.txt\", sep = \";\")"
   ]
  },
  {
   "cell_type": "markdown",
   "metadata": {},
   "source": [
    "##### Inspect Data"
   ]
  },
  {
   "cell_type": "markdown",
   "metadata": {},
   "source": [
    "Verify data looks clean and suitable from a high level view of it."
   ]
  },
  {
   "cell_type": "code",
   "execution_count": 1,
   "metadata": {
    "collapsed": false
   },
   "outputs": [
    {
     "data": {
      "text/html": [
       "<div>\n",
       "<table border=\"1\" class=\"dataframe\">\n",
       "  <thead>\n",
       "    <tr style=\"text-align: right;\">\n",
       "      <th></th>\n",
       "      <th>country</th>\n",
       "      <th>article</th>\n",
       "      <th>sales</th>\n",
       "      <th>regular_price</th>\n",
       "      <th>current_price</th>\n",
       "      <th>ratio</th>\n",
       "      <th>retailweek</th>\n",
       "      <th>promo1</th>\n",
       "      <th>promo2</th>\n",
       "    </tr>\n",
       "  </thead>\n",
       "  <tbody>\n",
       "    <tr>\n",
       "      <th>0</th>\n",
       "      <td>Germany</td>\n",
       "      <td>AA1821</td>\n",
       "      <td>62</td>\n",
       "      <td>31.95</td>\n",
       "      <td>25.95</td>\n",
       "      <td>0.812207</td>\n",
       "      <td>2014-12-28</td>\n",
       "      <td>1</td>\n",
       "      <td>0</td>\n",
       "    </tr>\n",
       "    <tr>\n",
       "      <th>1</th>\n",
       "      <td>Germany</td>\n",
       "      <td>AA1821</td>\n",
       "      <td>29</td>\n",
       "      <td>31.95</td>\n",
       "      <td>22.95</td>\n",
       "      <td>0.718310</td>\n",
       "      <td>2015-01-04</td>\n",
       "      <td>0</td>\n",
       "      <td>0</td>\n",
       "    </tr>\n",
       "    <tr>\n",
       "      <th>2</th>\n",
       "      <td>Germany</td>\n",
       "      <td>AA1821</td>\n",
       "      <td>58</td>\n",
       "      <td>31.95</td>\n",
       "      <td>28.95</td>\n",
       "      <td>0.906103</td>\n",
       "      <td>2015-01-11</td>\n",
       "      <td>0</td>\n",
       "      <td>0</td>\n",
       "    </tr>\n",
       "    <tr>\n",
       "      <th>3</th>\n",
       "      <td>Germany</td>\n",
       "      <td>AA1821</td>\n",
       "      <td>49</td>\n",
       "      <td>31.95</td>\n",
       "      <td>29.95</td>\n",
       "      <td>0.937402</td>\n",
       "      <td>2015-01-18</td>\n",
       "      <td>0</td>\n",
       "      <td>0</td>\n",
       "    </tr>\n",
       "    <tr>\n",
       "      <th>4</th>\n",
       "      <td>Germany</td>\n",
       "      <td>AA1821</td>\n",
       "      <td>883</td>\n",
       "      <td>31.95</td>\n",
       "      <td>24.95</td>\n",
       "      <td>0.780908</td>\n",
       "      <td>2015-01-25</td>\n",
       "      <td>0</td>\n",
       "      <td>0</td>\n",
       "    </tr>\n",
       "  </tbody>\n",
       "</table>\n",
       "</div>"
      ],
      "text/plain": [
       "   country article  sales  regular_price  current_price     ratio  retailweek  \\\n",
       "0  Germany  AA1821     62          31.95          25.95  0.812207  2014-12-28   \n",
       "1  Germany  AA1821     29          31.95          22.95  0.718310  2015-01-04   \n",
       "2  Germany  AA1821     58          31.95          28.95  0.906103  2015-01-11   \n",
       "3  Germany  AA1821     49          31.95          29.95  0.937402  2015-01-18   \n",
       "4  Germany  AA1821    883          31.95          24.95  0.780908  2015-01-25   \n",
       "\n",
       "   promo1  promo2  \n",
       "0       1       0  \n",
       "1       0       0  \n",
       "2       0       0  \n",
       "3       0       0  \n",
       "4       0       0  "
      ]
     },
     "execution_count": 1,
     "metadata": {},
     "output_type": "execute_result"
    }
   ],
   "source": [
    "data_sales.head()"
   ]
  },
  {
   "cell_type": "code",
   "execution_count": 11,
   "metadata": {
    "collapsed": false
   },
   "outputs": [
    {
     "data": {
      "text/plain": [
       "(81426, 9)"
      ]
     },
     "execution_count": 11,
     "metadata": {},
     "output_type": "execute_result"
    }
   ],
   "source": [
    "data_sales.shape"
   ]
  },
  {
   "cell_type": "markdown",
   "metadata": {},
   "source": [
    "Check for any NaN values in sales transactional data."
   ]
  },
  {
   "cell_type": "code",
   "execution_count": 13,
   "metadata": {
    "collapsed": false
   },
   "outputs": [
    {
     "data": {
      "text/plain": [
       "False"
      ]
     },
     "execution_count": 13,
     "metadata": {},
     "output_type": "execute_result"
    }
   ],
   "source": [
    "data_sales.isnull().values.any()"
   ]
  },
  {
   "cell_type": "code",
   "execution_count": 14,
   "metadata": {
    "collapsed": false
   },
   "outputs": [
    {
     "data": {
      "text/html": [
       "<div>\n",
       "<table border=\"1\" class=\"dataframe\">\n",
       "  <thead>\n",
       "    <tr style=\"text-align: right;\">\n",
       "      <th></th>\n",
       "      <th>article</th>\n",
       "      <th>category</th>\n",
       "      <th>productgroup</th>\n",
       "      <th>cost</th>\n",
       "    </tr>\n",
       "  </thead>\n",
       "  <tbody>\n",
       "    <tr>\n",
       "      <th>0</th>\n",
       "      <td>OC6355</td>\n",
       "      <td>TRAINING</td>\n",
       "      <td>SHOES</td>\n",
       "      <td>13.29</td>\n",
       "    </tr>\n",
       "    <tr>\n",
       "      <th>1</th>\n",
       "      <td>AP5568</td>\n",
       "      <td>TRAINING</td>\n",
       "      <td>SHORTS</td>\n",
       "      <td>2.29</td>\n",
       "    </tr>\n",
       "    <tr>\n",
       "      <th>2</th>\n",
       "      <td>CB8861</td>\n",
       "      <td>GOLF</td>\n",
       "      <td>HARDWARE ACCESSORIES</td>\n",
       "      <td>1.70</td>\n",
       "    </tr>\n",
       "    <tr>\n",
       "      <th>3</th>\n",
       "      <td>LI3529</td>\n",
       "      <td>RUNNING</td>\n",
       "      <td>SHOES</td>\n",
       "      <td>9.00</td>\n",
       "    </tr>\n",
       "    <tr>\n",
       "      <th>4</th>\n",
       "      <td>GG8661</td>\n",
       "      <td>RELAX CASUAL</td>\n",
       "      <td>SHOES</td>\n",
       "      <td>9.60</td>\n",
       "    </tr>\n",
       "  </tbody>\n",
       "</table>\n",
       "</div>"
      ],
      "text/plain": [
       "  article      category          productgroup   cost\n",
       "0  OC6355      TRAINING                 SHOES  13.29\n",
       "1  AP5568      TRAINING                SHORTS   2.29\n",
       "2  CB8861          GOLF  HARDWARE ACCESSORIES   1.70\n",
       "3  LI3529       RUNNING                 SHOES   9.00\n",
       "4  GG8661  RELAX CASUAL                 SHOES   9.60"
      ]
     },
     "execution_count": 14,
     "metadata": {},
     "output_type": "execute_result"
    }
   ],
   "source": [
    "data_attribute.head()"
   ]
  },
  {
   "cell_type": "code",
   "execution_count": 15,
   "metadata": {
    "collapsed": false
   },
   "outputs": [
    {
     "data": {
      "text/plain": [
       "(476, 4)"
      ]
     },
     "execution_count": 15,
     "metadata": {},
     "output_type": "execute_result"
    }
   ],
   "source": [
    "data_attribute.shape"
   ]
  },
  {
   "cell_type": "markdown",
   "metadata": {},
   "source": [
    "Check for any NaN values in sales attribute data."
   ]
  },
  {
   "cell_type": "code",
   "execution_count": 17,
   "metadata": {
    "collapsed": false
   },
   "outputs": [
    {
     "data": {
      "text/plain": [
       "False"
      ]
     },
     "execution_count": 17,
     "metadata": {},
     "output_type": "execute_result"
    }
   ],
   "source": [
    "data_attribute.isnull().values.any()"
   ]
  },
  {
   "cell_type": "markdown",
   "metadata": {},
   "source": [
    "From a high level perspective, the data looks okay. There aren't any NaN's and the size of the dataframes makes sense based on the size of the raw data in the text files. Next, let's do some plotting to visualize what kind of data and how much data I am working with regarding categories, etc."
   ]
  },
  {
   "cell_type": "markdown",
   "metadata": {},
   "source": [
    "##### Plot Data"
   ]
  },
  {
   "cell_type": "code",
   "execution_count": null,
   "metadata": {
    "collapsed": true
   },
   "outputs": [],
   "source": []
  }
 ],
 "metadata": {
  "kernelspec": {
   "display_name": "Python [conda root]",
   "language": "python",
   "name": "conda-root-py"
  },
  "language_info": {
   "codemirror_mode": {
    "name": "ipython",
    "version": 3
   },
   "file_extension": ".py",
   "mimetype": "text/x-python",
   "name": "python",
   "nbconvert_exporter": "python",
   "pygments_lexer": "ipython3",
   "version": "3.6.0"
  }
 },
 "nbformat": 4,
 "nbformat_minor": 2
}
