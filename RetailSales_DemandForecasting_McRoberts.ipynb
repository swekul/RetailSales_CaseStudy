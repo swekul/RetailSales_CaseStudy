{
 "cells": [
  {
   "cell_type": "markdown",
   "metadata": {},
   "source": [
    "**Jake McRoberts  \n",
    "July 7th, 2017  \n",
    "Case Study: Retail Sales Data**"
   ]
  },
  {
   "cell_type": "markdown",
   "metadata": {},
   "source": [
    "# Improve Demand Forecasting using Retail Sales Data"
   ]
  },
  {
   "cell_type": "markdown",
   "metadata": {},
   "source": [
    "Python version used for analyses: 3.6.X\n",
    "\n",
    "Data files: \n",
    "- sales.txt\n",
    "- article_master.txt\n",
    "\n",
    "Tasks:\n",
    "1. Prepare and analyze the data to assure sufficient quality and suitability for the business case study.\n",
    "2. Identify what is driving sales and which type of promotion has a stronger impact on sales.\n",
    "3. Forecast sales (sold units) for the following month. \n",
    "4. Perform appropriate diagnostics to check whether your methods and results from above are reliable."
   ]
  },
  {
   "cell_type": "markdown",
   "metadata": {},
   "source": [
    "### 1. Import, clean, and wrangle sales data to ensure data quality and suitability for analysis"
   ]
  },
  {
   "cell_type": "markdown",
   "metadata": {},
   "source": [
    "##### Import Data"
   ]
  },
  {
   "cell_type": "code",
   "execution_count": null,
   "metadata": {
    "collapsed": true
   },
   "outputs": [],
   "source": []
  }
 ],
 "metadata": {
  "kernelspec": {
   "display_name": "Python [conda root]",
   "language": "python",
   "name": "conda-root-py"
  },
  "language_info": {
   "codemirror_mode": {
    "name": "ipython",
    "version": 3
   },
   "file_extension": ".py",
   "mimetype": "text/x-python",
   "name": "python",
   "nbconvert_exporter": "python",
   "pygments_lexer": "ipython3",
   "version": "3.6.0"
  }
 },
 "nbformat": 4,
 "nbformat_minor": 2
}
